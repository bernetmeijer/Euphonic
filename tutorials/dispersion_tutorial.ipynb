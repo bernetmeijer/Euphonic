{
 "cells": [
  {
   "cell_type": "markdown",
   "metadata": {},
   "source": [
    "## dispersion.py Tutorial\n",
    "This tutorial will show you how to run dispersion.py and some of its basic features. First, make sure you have installed the Euphonic package by running `pip install .` from the top directory containing setup.py"
   ]
  },
  {
   "cell_type": "markdown",
   "metadata": {},
   "source": [
    "Use --help to get an overview of the command line arguments:"
   ]
  },
  {
   "cell_type": "code",
   "execution_count": null,
   "metadata": {},
   "outputs": [],
   "source": [
    "%run ../scripts/dispersion.py --help"
   ]
  },
  {
   "cell_type": "markdown",
   "metadata": {},
   "source": [
    "### .bands Files\n",
    "Plot a simple dispersion plot. The grid lines show where the path changes direction and the high-symmetry points are labelled"
   ]
  },
  {
   "cell_type": "code",
   "execution_count": null,
   "metadata": {},
   "outputs": [],
   "source": [
    "%run ../scripts/dispersion.py castep_files/Fe/Fe-path.bands"
   ]
  },
  {
   "cell_type": "markdown",
   "metadata": {},
   "source": [
    "### .phonon Files\n",
    "You can also plot phonon dispersion relations. The .phonon files contain lattice parameters so the high-symmetry points can be properly labelled. The units can also be chosen with the -units argument:"
   ]
  },
  {
   "cell_type": "code",
   "execution_count": null,
   "metadata": {},
   "outputs": [],
   "source": [
    "%run ../scripts/dispersion.py castep_files/NaH/NaH.phonon -units 1/cm"
   ]
  },
  {
   "cell_type": "markdown",
   "metadata": {},
   "source": [
    "### Sub-plots\n",
    "If 2 consecutive k-points have a large separation, sections of reciprocal space are plotted on separate sub-plots:"
   ]
  },
  {
   "cell_type": "code",
   "execution_count": null,
   "metadata": {},
   "outputs": [],
   "source": [
    "%run ../scripts/dispersion.py castep_files/graphite/graphite.bands"
   ]
  },
  {
   "cell_type": "markdown",
   "metadata": {},
   "source": [
    "This behaviour can be controlled using the -btol argument to change the limit at which this happens. Try increasing the tolerance to force all the k-points to be on the same sub-plot:"
   ]
  },
  {
   "cell_type": "code",
   "execution_count": null,
   "metadata": {},
   "outputs": [],
   "source": [
    "%run ../scripts/dispersion.py castep_files/graphite/graphite.bands -btol 20.0"
   ]
  },
  {
   "cell_type": "markdown",
   "metadata": {},
   "source": [
    "### Reordering\n",
    "For a .phonon file, dispersion.py can reorder the bands using the eigenvectors. Just use the -reorder argument"
   ]
  },
  {
   "cell_type": "code",
   "execution_count": null,
   "metadata": {},
   "outputs": [],
   "source": [
    "%run ../scripts/dispersion.py castep_files/NaH/NaH.phonon -units 1/cm -reorder"
   ]
  }
 ],
 "metadata": {
  "kernelspec": {
   "display_name": "Python 2",
   "language": "python",
   "name": "python2"
  },
  "language_info": {
   "codemirror_mode": {
    "name": "ipython",
    "version": 2
   },
   "file_extension": ".py",
   "mimetype": "text/x-python",
   "name": "python",
   "nbconvert_exporter": "python",
   "pygments_lexer": "ipython2",
   "version": "2.7.15"
  }
 },
 "nbformat": 4,
 "nbformat_minor": 2
}
